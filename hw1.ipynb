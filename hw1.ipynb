{
 "metadata": {
  "language_info": {
   "codemirror_mode": {
    "name": "ipython",
    "version": 3
   },
   "file_extension": ".py",
   "mimetype": "text/x-python",
   "name": "python",
   "nbconvert_exporter": "python",
   "pygments_lexer": "ipython3",
   "version": "3.6.8-final"
  },
  "orig_nbformat": 2,
  "kernelspec": {
   "name": "python3",
   "display_name": "Python 3"
  }
 },
 "nbformat": 4,
 "nbformat_minor": 2,
 "cells": [
  {
   "source": [
    "1. 导入数据"
   ],
   "cell_type": "markdown",
   "metadata": {}
  },
  {
   "cell_type": "code",
   "execution_count": 1,
   "metadata": {},
   "outputs": [],
   "source": [
    "import sys\n",
    "import pandas as pd\n",
    "import numpy as np\n",
    "data = pd.read_csv('./train.csv',encoding ='big5')\n"
   ]
  },
  {
   "source": [
    "2. 简单处理"
   ],
   "cell_type": "markdown",
   "metadata": {}
  },
  {
   "source": [
    "data = data.iloc[:,3:] #iloc提取数据，第一个参数为行数，第二个为列数，此处提取第三列开始的所有数据\n",
    "data[data=='NR']=0 #对表示不下雨的‘NR’改为0\n",
    "raw_data=data.to_numpy() #变为numpy"
   ],
   "cell_type": "code",
   "metadata": {},
   "execution_count": 2,
   "outputs": []
  },
  {
   "source": [
    "将数据按月分组存放"
   ],
   "cell_type": "markdown",
   "metadata": {}
  },
  {
   "cell_type": "code",
   "execution_count": 3,
   "metadata": {},
   "outputs": [],
   "source": [
    "month_data={}\n",
    "for month in range(12):\n",
    "    sample=np.empty([18,480])\n",
    "    for day in range(20):\n",
    "        sample[:,day*24:(day+1)*24]=raw_data[18*(20*month+day):18*(20*month+day+1),:]\n",
    "    month_data[month]=sample"
   ]
  }
 ]
}